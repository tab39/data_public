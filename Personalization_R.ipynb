{
  "nbformat": 4,
  "nbformat_minor": 0,
  "metadata": {
    "colab": {
      "provenance": []
    },
    "kernelspec": {
      "name": "ir",
      "display_name": "R"
    },
    "language_info": {
      "name": "R"
    },
    "gpuClass": "standard"
  },
  "cells": [
    {
      "cell_type": "markdown",
      "source": [
        "**OVERVIEW**\n",
        "\n",
        "**Objective**\n",
        "\n",
        "The objective of this project is to increase CTR on a marketing email dataset.\n",
        "\n",
        "**Dataset**\n",
        "\n",
        "The dataset consists of 99,950 emails, with fields WRT\n",
        "\n",
        "email metadata\n",
        "user's metadata\n",
        "clicked / not"
      ],
      "metadata": {
        "id": "im_5_sNn4WlG"
      }
    },
    {
      "cell_type": "markdown",
      "source": [
        "**SETUP**"
      ],
      "metadata": {
        "id": "MH7y4VPC4fJF"
      }
    },
    {
      "cell_type": "markdown",
      "source": [
        "**Import**"
      ],
      "metadata": {
        "id": "gcXM9UBx4llB"
      }
    },
    {
      "cell_type": "code",
      "source": [
        "install.packages('randomForest')\n",
        "install.packages('kableExtra')\n",
        "library(randomForest)\n",
        "set.seed(4321)"
      ],
      "metadata": {
        "colab": {
          "base_uri": "https://localhost:8080/"
        },
        "id": "_YD6by6M39Io",
        "outputId": "311b33b6-17e5-4da1-be9f-e795232ed88d"
      },
      "execution_count": null,
      "outputs": [
        {
          "output_type": "stream",
          "name": "stderr",
          "text": [
            "Installing package into ‘/usr/local/lib/R/site-library’\n",
            "(as ‘lib’ is unspecified)\n",
            "\n",
            "Installing package into ‘/usr/local/lib/R/site-library’\n",
            "(as ‘lib’ is unspecified)\n",
            "\n",
            "randomForest 4.7-1.1\n",
            "\n",
            "Type rfNews() to see new features/changes/bug fixes.\n",
            "\n"
          ]
        }
      ]
    },
    {
      "cell_type": "markdown",
      "source": [
        "**Read data**"
      ],
      "metadata": {
        "id": "yaxlQRzt4niO"
      }
    },
    {
      "cell_type": "code",
      "execution_count": null,
      "metadata": {
        "id": "qKQSi78b3gg2"
      },
      "outputs": [],
      "source": [
        "data = read.csv(\"https://drive.google.com/uc?export=download&id=1PXjbqSMu__d_ppEv92i_Gnx3kKgfvhFk\")"
      ]
    },
    {
      "cell_type": "markdown",
      "source": [
        "**BUILD MODEL**"
      ],
      "metadata": {
        "id": "BuDmi3Zp5Uy4"
      }
    },
    {
      "cell_type": "markdown",
      "source": [
        "**Extract label and drop email_id** because it's unnecessary"
      ],
      "metadata": {
        "id": "P7uy9ftB5NOn"
      }
    },
    {
      "cell_type": "code",
      "source": [
        "data$clicked = as.factor(data$clicked) \n",
        "\n",
        "data$email_id = NULL"
      ],
      "metadata": {
        "id": "VJQdtSd53vIX"
      },
      "execution_count": null,
      "outputs": []
    },
    {
      "cell_type": "markdown",
      "source": [
        "**Bin data**\n",
        "\n",
        "Bin data and speed up execution.\n",
        "\n",
        "Bin data by hour\n",
        "\n",
        "The dataset is binned as follows:\n",
        "\n",
        "* 1 AM - 5 AM\n",
        "* 5 AM - 1 PM\n",
        "* 1 PM - 9 PM\n",
        "* 9 PM - 2 AM"
      ],
      "metadata": {
        "id": "V7Wy9XXT4wvZ"
      }
    },
    {
      "cell_type": "code",
      "source": [
        "data$hour_binned = ifelse(data$hour>=6 & data$hour<14, \"morning\", \n",
        "                            ifelse (data$hour>= 14 & data$hour<22, \"afternoon\", \"night\")\n",
        "                   )\n",
        "data$hour_binned = as.factor(data$hour_binned)"
      ],
      "metadata": {
        "id": "DMzsmxfb5gRP"
      },
      "execution_count": null,
      "outputs": []
    },
    {
      "cell_type": "markdown",
      "source": [
        "Bin data by purchases"
      ],
      "metadata": {
        "id": "0nM0mamb6hzt"
      }
    },
    {
      "cell_type": "markdown",
      "source": [
        "The dataset is binned as follows:\n",
        "\n",
        "* [0, 1) purchases\n",
        "* [1, 4) purchases\n",
        "* [4, 8) purchases\n",
        "* [8, 23) purchases\n"
      ],
      "metadata": {
        "id": "olQgyJEF6H2n"
      }
    },
    {
      "cell_type": "code",
      "source": [
        "data$purchase_binned = ifelse(data$user_past_purchases==0, \"None\",\n",
        "                                  ifelse(data$user_past_purchases<4, \"Low\",\n",
        "                                          ifelse(data$user_past_purchases<8, \"Medium\", \"High\"))\n",
        "                        )\n",
        "data$purchase_binned = as.factor(data$purchase_binned)"
      ],
      "metadata": {
        "id": "WAckh6ii5wB7"
      },
      "execution_count": null,
      "outputs": []
    },
    {
      "cell_type": "markdown",
      "source": [
        "Reorder the dataset to push label to end and remove continuous variables"
      ],
      "metadata": {
        "id": "2QRotxjr6m4B"
      }
    },
    {
      "cell_type": "code",
      "source": [
        "data = data[,c(5,9,1,2,4,8,7)] "
      ],
      "metadata": {
        "id": "0QEZthP86PH1"
      },
      "execution_count": null,
      "outputs": []
    },
    {
      "cell_type": "markdown",
      "source": [
        "**Prepare training and test set**"
      ],
      "metadata": {
        "id": "zJX6wIOA62aD"
      }
    },
    {
      "cell_type": "code",
      "source": [
        "train_indices <- sample(nrow(data), size = nrow(data)*0.66)\n",
        "train <- data[train_indices,]\n",
        "test <-  data[-train_indices,]"
      ],
      "metadata": {
        "id": "OaerBNJ_6t5z"
      },
      "execution_count": null,
      "outputs": []
    },
    {
      "cell_type": "markdown",
      "source": [
        "**Build RF**"
      ],
      "metadata": {
        "id": "ThTUoO-d6_uP"
      }
    },
    {
      "cell_type": "code",
      "source": [
        "rf_model = randomForest(x=train[, -ncol(train)], y=train$clicked, xtest = test[, -ncol(test)], ytest=test$clicked, classwt=c(2, 1), ntree=50, keep.forest=TRUE)"
      ],
      "metadata": {
        "id": "gtOyftmx682C"
      },
      "execution_count": null,
      "outputs": []
    },
    {
      "cell_type": "code",
      "source": [
        "rf_model"
      ],
      "metadata": {
        "colab": {
          "base_uri": "https://localhost:8080/",
          "height": 338
        },
        "id": "1Cnoh4T67FQ3",
        "outputId": "3c585d1d-9339-44b3-c8d1-0770867cd6e2"
      },
      "execution_count": null,
      "outputs": [
        {
          "output_type": "display_data",
          "data": {
            "text/plain": [
              "\n",
              "Call:\n",
              " randomForest(x = train[, -ncol(train)], y = train$clicked, xtest = test[,      -ncol(test)], ytest = test$clicked, ntree = 50, classwt = c(2,      1), keep.forest = TRUE) \n",
              "               Type of random forest: classification\n",
              "                     Number of trees: 50\n",
              "No. of variables tried at each split: 2\n",
              "\n",
              "        OOB estimate of  error rate: 11.88%\n",
              "Confusion matrix:\n",
              "      0    1 class.error\n",
              "0 57722 6898   0.1067471\n",
              "1   937  410   0.6956199\n",
              "                Test set error rate: 12.22%\n",
              "Confusion matrix:\n",
              "      0    1 class.error\n",
              "0 29581 3680   0.1106401\n",
              "1   473  249   0.6551247"
            ]
          },
          "metadata": {}
        }
      ]
    },
    {
      "cell_type": "markdown",
      "source": [
        "_______"
      ],
      "metadata": {
        "id": "JAV8Tnyx7aNS"
      }
    },
    {
      "cell_type": "markdown",
      "source": [
        "**Predict click-through-rate for each segment**"
      ],
      "metadata": {
        "id": "45pSmePw7enu"
      }
    },
    {
      "cell_type": "markdown",
      "source": [
        "Remove classification label and drop duplicates"
      ],
      "metadata": {
        "id": "IB6mcd7d7kZF"
      }
    },
    {
      "cell_type": "code",
      "source": [
        "data_unique = data[, -ncol(data)] \n",
        "data_unique = data_unique[!duplicated(data_unique),]"
      ],
      "metadata": {
        "id": "vgijVlWH7i5P"
      },
      "execution_count": null,
      "outputs": []
    },
    {
      "cell_type": "markdown",
      "source": [
        "Predict & add to dataset"
      ],
      "metadata": {
        "id": "wlE3up5L7qkB"
      }
    },
    {
      "cell_type": "code",
      "source": [
        "prediction = predict(rf_model, data_unique, type=\"prob\")[,2]\n",
        "data_unique$prediction = prediction\n",
        "knitr::kable(data_unique[1:5,])"
      ],
      "metadata": {
        "colab": {
          "base_uri": "https://localhost:8080/",
          "height": 178
        },
        "id": "HqaGxp267o12",
        "outputId": "963ad07e-aa89-4123-bbef-59fd0ce2c1dd"
      },
      "execution_count": null,
      "outputs": [
        {
          "output_type": "display_data",
          "data": {
            "text/plain": [
              "\n",
              "\n",
              "|user_country |purchase_binned |email_text  |email_version |weekday   |hour_binned | prediction|\n",
              "|:------------|:---------------|:-----------|:-------------|:---------|:-----------|----------:|\n",
              "|US           |Low             |short_email |generic       |Thursday  |morning     |       0.00|\n",
              "|US           |None            |long_email  |personalized  |Monday    |morning     |       0.00|\n",
              "|US           |Low             |short_email |generic       |Tuesday   |afternoon   |       0.00|\n",
              "|US           |High            |long_email  |personalized  |Thursday  |morning     |       0.86|\n",
              "|UK           |Low             |short_email |generic       |Wednesday |morning     |       0.08|"
            ]
          },
          "metadata": {}
        }
      ]
    },
    {
      "cell_type": "markdown",
      "source": [
        "______"
      ],
      "metadata": {
        "id": "1IYpi-kn7sA1"
      }
    },
    {
      "cell_type": "markdown",
      "source": [
        "**Identify the best email characteristics for each user**"
      ],
      "metadata": {
        "id": "wpNXMcCB9FZe"
      }
    },
    {
      "cell_type": "markdown",
      "source": [
        "1. Sort the records by descending probability of clicking\n",
        "2. Remove duplicate entries with the same parameters to find the combination of user characteristics that has max. P(click)\n"
      ],
      "metadata": {
        "id": "_RMOpBPU9IUE"
      }
    },
    {
      "cell_type": "code",
      "source": [
        "require(dplyr)\n",
        "\n",
        "best_segment = data_unique %>% \n",
        "               group_by(user_country, purchase_binned) %>% \n",
        "               arrange(desc(prediction)) %>% \n",
        "               filter(row_number()==1)\n",
        "knitr::kable(best_segment)\n"
      ],
      "metadata": {
        "colab": {
          "base_uri": "https://localhost:8080/",
          "height": 749
        },
        "id": "cBP2Lw2a9LBv",
        "outputId": "886ff1f4-e62e-4ae1-fb12-e43dbe0a5b95"
      },
      "execution_count": null,
      "outputs": [
        {
          "output_type": "stream",
          "name": "stderr",
          "text": [
            "Loading required package: dplyr\n",
            "\n",
            "\n",
            "Attaching package: ‘dplyr’\n",
            "\n",
            "\n",
            "The following object is masked from ‘package:randomForest’:\n",
            "\n",
            "    combine\n",
            "\n",
            "\n",
            "The following objects are masked from ‘package:stats’:\n",
            "\n",
            "    filter, lag\n",
            "\n",
            "\n",
            "The following objects are masked from ‘package:base’:\n",
            "\n",
            "    intersect, setdiff, setequal, union\n",
            "\n",
            "\n"
          ]
        },
        {
          "output_type": "display_data",
          "data": {
            "text/plain": [
              "\n",
              "\n",
              "|user_country |purchase_binned |email_text  |email_version |weekday   |hour_binned | prediction|\n",
              "|:------------|:---------------|:-----------|:-------------|:---------|:-----------|----------:|\n",
              "|US           |High            |short_email |personalized  |Wednesday |morning     |       0.98|\n",
              "|UK           |High            |short_email |personalized  |Sunday    |morning     |       0.98|\n",
              "|UK           |Medium          |short_email |personalized  |Monday    |morning     |       0.76|\n",
              "|US           |Medium          |short_email |personalized  |Sunday    |morning     |       0.72|\n",
              "|FR           |High            |short_email |personalized  |Sunday    |night       |       0.60|\n",
              "|ES           |High            |short_email |personalized  |Tuesday   |morning     |       0.56|\n",
              "|ES           |Medium          |short_email |personalized  |Tuesday   |afternoon   |       0.48|\n",
              "|US           |Low             |short_email |personalized  |Wednesday |afternoon   |       0.36|\n",
              "|FR           |Medium          |short_email |personalized  |Monday    |night       |       0.34|\n",
              "|UK           |Low             |short_email |personalized  |Monday    |afternoon   |       0.24|\n",
              "|FR           |Low             |short_email |generic       |Friday    |night       |       0.14|\n",
              "|ES           |Low             |long_email  |personalized  |Monday    |afternoon   |       0.08|\n",
              "|UK           |None            |short_email |personalized  |Sunday    |morning     |       0.04|\n",
              "|FR           |None            |short_email |personalized  |Monday    |night       |       0.04|\n",
              "|US           |None            |short_email |personalized  |Friday    |morning     |       0.02|\n",
              "|ES           |None            |short_email |personalized  |Tuesday   |afternoon   |       0.02|"
            ]
          },
          "metadata": {}
        }
      ]
    },
    {
      "cell_type": "markdown",
      "source": [
        "* Now we have a model that returns the best email strategy for each user combination\n",
        "\n",
        "* Caveat: even the best email strategy has low probabilities for users with no purchases, regardless of country.\n",
        "\n",
        "* We won’t get those people to convert just through emails.\n",
        "\n",
        "* We may have to make product changes for that. After all, only good segments are marketing opportunities."
      ],
      "metadata": {
        "id": "vuI_sSA19OBd"
      }
    },
    {
      "cell_type": "markdown",
      "source": [
        "_________"
      ],
      "metadata": {
        "id": "-lwd6VYv9ml4"
      }
    },
    {
      "cell_type": "markdown",
      "source": [
        "**Estimate A/B test gains**"
      ],
      "metadata": {
        "id": "1BSD8ZgH9gBp"
      }
    },
    {
      "cell_type": "markdown",
      "source": [
        "* We have a model to send personalized emails.\n",
        "\n",
        "* We now have to test it.\n",
        "* In order to test, I have to run the model on a randomized fraction of users\n",
        "* Then, I would compare its results with the current email model.\n",
        "\n",
        "* In order to run the test though, the product manager has to be convinced that it makes sense to run the test from a cost-opportunity standpoint.\n",
        "* The best way to do that is giving them an estimate of by how much we think we could potentially increase click-rate.\n",
        "* That way they can figure out whether it makes sense.\n",
        "\n",
        "* Since we know the predicted probability for each group, we can just estimate the weighted average to estimate the final overall click-rate.\n",
        "\n",
        "* Caveat: the predicted probability from the model is insufficient.\n",
        "* Reason: model has pretty high class 1 error.\n",
        "\n",
        "* Hence, we need to to adjust the predicted probabilities after taking into account the model expected error."
      ],
      "metadata": {
        "id": "OFR5kwry9jy0"
      }
    },
    {
      "cell_type": "code",
      "source": [
        "count_segment = data %>% group_by(user_country, purchase_binned) %>% summarize(weight = n()/nrow(data))\n",
        "best_segment = merge(best_segment, count_segment)\n",
        "knitr::kable(best_segment[order(best_segment$prediction, decreasing = TRUE),])"
      ],
      "metadata": {
        "colab": {
          "base_uri": "https://localhost:8080/",
          "height": 410
        },
        "id": "v7W24tOZ9-hE",
        "outputId": "a98ad880-f895-427e-b1d9-a778eccc5f30"
      },
      "execution_count": null,
      "outputs": [
        {
          "output_type": "stream",
          "name": "stderr",
          "text": [
            "\u001b[1m\u001b[22m`summarise()` has grouped output by 'user_country'. You can override using the\n",
            "`.groups` argument.\n"
          ]
        },
        {
          "output_type": "display_data",
          "data": {
            "text/plain": [
              "\n",
              "\n",
              "|   |user_country |purchase_binned |    weight|email_text  |email_version |weekday   |hour_binned | prediction|\n",
              "|:--|:------------|:---------------|---------:|:-----------|:-------------|:---------|:-----------|----------:|\n",
              "|9  |UK           |High            | 0.0271336|short_email |personalized  |Sunday    |morning     |       0.98|\n",
              "|13 |US           |High            | 0.0832916|short_email |personalized  |Wednesday |morning     |       0.98|\n",
              "|11 |UK           |Medium          | 0.0662531|short_email |personalized  |Monday    |morning     |       0.76|\n",
              "|15 |US           |Medium          | 0.2001801|short_email |personalized  |Sunday    |morning     |       0.72|\n",
              "|5  |FR           |High            | 0.0144472|short_email |personalized  |Sunday    |night       |       0.60|\n",
              "|1  |ES           |High            | 0.0142271|short_email |personalized  |Tuesday   |morning     |       0.56|\n",
              "|3  |ES           |Medium          | 0.0339070|short_email |personalized  |Tuesday   |afternoon   |       0.48|\n",
              "|14 |US           |Low             | 0.2337569|short_email |personalized  |Wednesday |afternoon   |       0.36|\n",
              "|7  |FR           |Medium          | 0.0331566|short_email |personalized  |Monday    |night       |       0.34|\n",
              "|10 |UK           |Low             | 0.0780690|short_email |personalized  |Monday    |afternoon   |       0.24|\n",
              "|6  |FR           |Low             | 0.0389195|short_email |generic       |Friday    |night       |       0.14|\n",
              "|2  |ES           |Low             | 0.0378689|long_email  |personalized  |Monday    |afternoon   |       0.08|\n",
              "|8  |FR           |None            | 0.0134167|short_email |personalized  |Monday    |night       |       0.04|\n",
              "|12 |UK           |None            | 0.0279240|short_email |personalized  |Sunday    |morning     |       0.04|\n",
              "|4  |ES           |None            | 0.0136868|short_email |personalized  |Tuesday   |afternoon   |       0.02|\n",
              "|16 |US           |None            | 0.0837619|short_email |personalized  |Friday    |morning     |       0.02|"
            ]
          },
          "metadata": {}
        }
      ]
    },
    {
      "cell_type": "markdown",
      "source": [
        "**Calculating CTR** after adding Class 0 and Class 1 errors to the dataset"
      ],
      "metadata": {
        "id": "sPHqWgms9_7j"
      }
    },
    {
      "cell_type": "code",
      "source": [
        "ppv = rf_model$confusion[2,2]/sum(rf_model$confusion[,2])\n",
        "\n",
        "forate = rf_model$confusion[2,1]/sum(rf_model$confusion[,1])\n",
        "\n",
        "best_segment$adjusted_prediction = best_segment$prediction * ppv + (1-best_segment$prediction) * forate\n",
        "\n",
        "data.frame( predicted_click_rate = sum(best_segment$adjusted_prediction*best_segment$weight),\n",
        "                  old_click_rate = mean(as.numeric(as.character(data$clicked))))"
      ],
      "metadata": {
        "colab": {
          "base_uri": "https://localhost:8080/",
          "height": 129
        },
        "id": "KEnc9hDX-TmL",
        "outputId": "d4197990-5759-4ad3-e089-17ba23b4b1c6"
      },
      "execution_count": null,
      "outputs": [
        {
          "output_type": "display_data",
          "data": {
            "text/html": [
              "<table class=\"dataframe\">\n",
              "<caption>A data.frame: 1 × 2</caption>\n",
              "<thead>\n",
              "\t<tr><th scope=col>predicted_click_rate</th><th scope=col>old_click_rate</th></tr>\n",
              "\t<tr><th scope=col>&lt;dbl&gt;</th><th scope=col>&lt;dbl&gt;</th></tr>\n",
              "</thead>\n",
              "<tbody>\n",
              "\t<tr><td>0.03450747</td><td>0.02070035</td></tr>\n",
              "</tbody>\n",
              "</table>\n"
            ],
            "text/markdown": "\nA data.frame: 1 × 2\n\n| predicted_click_rate &lt;dbl&gt; | old_click_rate &lt;dbl&gt; |\n|---|---|\n| 0.03450747 | 0.02070035 |\n\n",
            "text/latex": "A data.frame: 1 × 2\n\\begin{tabular}{ll}\n predicted\\_click\\_rate & old\\_click\\_rate\\\\\n <dbl> & <dbl>\\\\\n\\hline\n\t 0.03450747 & 0.02070035\\\\\n\\end{tabular}\n",
            "text/plain": [
              "  predicted_click_rate old_click_rate\n",
              "1 0.03450747           0.02070035    "
            ]
          },
          "metadata": {}
        }
      ]
    }
  ]
}